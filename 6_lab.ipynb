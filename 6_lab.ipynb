{
 "cells": [
  {
   "cell_type": "code",
   "execution_count": 1,
   "metadata": {},
   "outputs": [],
   "source": [
    "import numpy as np\n",
    "from scipy import stats, integrate\n",
    "#import statistics\n",
    "import matplotlib.pyplot as plt\n",
    "import math\n",
    "import pandas as pd"
   ]
  },
  {
   "cell_type": "markdown",
   "metadata": {},
   "source": [
    "### Читаем исходные данные"
   ]
  },
  {
   "cell_type": "code",
   "execution_count": 3,
   "metadata": {},
   "outputs": [
    {
     "data": {
      "text/plain": [
       "100"
      ]
     },
     "execution_count": 3,
     "metadata": {},
     "output_type": "execute_result"
    }
   ],
   "source": [
    "data = pd.read_excel(\n",
    "    open('Samples_3.xls', 'rb'), \n",
    "    sheet_name='Вар13'\n",
    ")\n",
    "\n",
    "len(data)"
   ]
  },
  {
   "cell_type": "code",
   "execution_count": 4,
   "metadata": {},
   "outputs": [
    {
     "data": {
      "text/plain": [
       "(100, 100)"
      ]
     },
     "execution_count": 4,
     "metadata": {},
     "output_type": "execute_result"
    }
   ],
   "source": [
    "x1 = data['X1'].tolist()\n",
    "x2 = data['X2'].tolist()\n",
    "x3 = data['X3'].tolist()\n",
    "x4 = data['X4'].tolist()\n",
    "y = data['Y'].tolist()\n",
    "\n",
    "len(x1), len(y)"
   ]
  },
  {
   "cell_type": "markdown",
   "metadata": {},
   "source": [
    "#### Создаем единичный столбец"
   ]
  },
  {
   "cell_type": "code",
   "execution_count": 5,
   "metadata": {},
   "outputs": [
    {
     "data": {
      "text/plain": [
       "100"
      ]
     },
     "execution_count": 5,
     "metadata": {},
     "output_type": "execute_result"
    }
   ],
   "source": [
    "single_column = [1 for _ in x1]\n",
    "len(single_column)"
   ]
  },
  {
   "cell_type": "markdown",
   "metadata": {},
   "source": [
    "#### Собираем X"
   ]
  },
  {
   "cell_type": "code",
   "execution_count": 6,
   "metadata": {},
   "outputs": [
    {
     "data": {
      "text/plain": [
       "5"
      ]
     },
     "execution_count": 6,
     "metadata": {},
     "output_type": "execute_result"
    }
   ],
   "source": [
    "x = [col for col in [single_column, x1, x2, x3, x4]]\n",
    "len(x)"
   ]
  },
  {
   "cell_type": "markdown",
   "metadata": {},
   "source": [
    "#### Транспонируем матрицу X"
   ]
  },
  {
   "cell_type": "code",
   "execution_count": 7,
   "metadata": {},
   "outputs": [
    {
     "data": {
      "text/plain": [
       "[1,\n",
       " -0.19377418959972506,\n",
       " 5.190645644702547,\n",
       " 0.18544412111456654,\n",
       " -0.5261514690108339]"
      ]
     },
     "execution_count": 7,
     "metadata": {},
     "output_type": "execute_result"
    }
   ],
   "source": [
    "x_t =  [[1] + [x[j][i] for j in range(1, 5)] for i in range(len(x1))]\n",
    "x_t[0]"
   ]
  },
  {
   "cell_type": "markdown",
   "metadata": {},
   "source": [
    "##### Умножаем X (транспонированная) и X"
   ]
  },
  {
   "cell_type": "code",
   "execution_count": 8,
   "metadata": {},
   "outputs": [],
   "source": [
    "matrix_xt_x = [[0 for _ in x] for _ in x_t[0]]\n",
    "\n",
    "for i in range(len(x)):\n",
    "   for j in range(len(x_t[0])):\n",
    "       for k in range(len(x_t)):\n",
    "           matrix_xt_x[i][j] += x_t[k][i] * x[j][k]"
   ]
  },
  {
   "cell_type": "markdown",
   "metadata": {},
   "source": [
    "#### Умножаем X (транспонированная) и Y"
   ]
  },
  {
   "cell_type": "code",
   "execution_count": 9,
   "metadata": {},
   "outputs": [
    {
     "data": {
      "text/plain": [
       "[338.6300058749858,\n",
       " 42.252055355734775,\n",
       " 1723.392457344001,\n",
       " 23.78018851568639,\n",
       " 2.064313847372967]"
      ]
     },
     "execution_count": 9,
     "metadata": {},
     "output_type": "execute_result"
    }
   ],
   "source": [
    "matrix_xt_y = [0 for _ in x_t[0]]\n",
    "\n",
    "for j in range(len(x_t[0])):\n",
    "    for k in range(len(x_t)):\n",
    "        matrix_xt_y[j] += x_t[k][j] * y[k]\n",
    "\n",
    "matrix_xt_y"
   ]
  },
  {
   "cell_type": "markdown",
   "metadata": {},
   "source": [
    "#### Собираем (XT * X)^-1"
   ]
  },
  {
   "cell_type": "code",
   "execution_count": 10,
   "metadata": {},
   "outputs": [],
   "source": [
    "matrix_xt_x_inv = np.linalg.inv(matrix_xt_x)"
   ]
  },
  {
   "cell_type": "markdown",
   "metadata": {},
   "source": [
    "#### Собираем вектор оценок коэффициентов регрессии"
   ]
  },
  {
   "cell_type": "code",
   "execution_count": 11,
   "metadata": {},
   "outputs": [
    {
     "data": {
      "text/plain": [
       "[-2.621630746298089,\n",
       " 1.2374663938798127,\n",
       " 1.1726284887264709,\n",
       " 3.5100588055156474,\n",
       " 0.33665183117660347]"
      ]
     },
     "execution_count": 11,
     "metadata": {},
     "output_type": "execute_result"
    }
   ],
   "source": [
    "koef_vector = [0 for _ in x_t[0]]\n",
    "\n",
    "for j in range(len(matrix_xt_x_inv[0])):\n",
    "    for k in range(len(matrix_xt_x_inv)):\n",
    "        koef_vector[j] += matrix_xt_x_inv[k][j] * matrix_xt_y[k]\n",
    "\n",
    "koef_vector"
   ]
  },
  {
   "cell_type": "markdown",
   "metadata": {},
   "source": [
    "#### Получаем уравнение регрессии"
   ]
  },
  {
   "cell_type": "code",
   "execution_count": 12,
   "metadata": {},
   "outputs": [
    {
     "data": {
      "text/plain": [
       "'Y = -2.622 + 1.237*X1 + 1.173*X2 + 3.510*X3 + 0.337*X4'"
      ]
     },
     "execution_count": 12,
     "metadata": {},
     "output_type": "execute_result"
    }
   ],
   "source": [
    "regression_equation = (\n",
    "    f'Y = {koef_vector[0]:.3f}'\n",
    "    + f' + {koef_vector[1]:.3f}*X1'\n",
    "    + f' + {koef_vector[2]:.3f}*X2'\n",
    "    + f' + {koef_vector[3]:.3f}*X3'\n",
    "    + f' + {koef_vector[4]:.3f}*X4'\n",
    ")\n",
    "\n",
    "regression_equation"
   ]
  },
  {
   "cell_type": "markdown",
   "metadata": {},
   "source": [
    "#### Считаем параметры"
   ]
  },
  {
   "cell_type": "code",
   "execution_count": 13,
   "metadata": {},
   "outputs": [],
   "source": [
    "x = [col for col in [single_column, y, x1, x2, x3, x4]]\n",
    "x_t =  [[1] + [x[j][i] for j in range(1, 6)] for i in range(len(x1))]\n",
    "\n",
    "matrix = [[0 for _ in x] for _ in x_t[0]]\n",
    "    \n",
    "\n",
    "for i in range(len(x)):\n",
    "    for j in range(len(x_t[0])):\n",
    "        for k in range(len(x_t)):\n",
    "           matrix[i][j] += x_t[k][i] * x[j][k]\n",
    "        matrix[i][j] /= len(x1)"
   ]
  },
  {
   "cell_type": "markdown",
   "metadata": {},
   "source": [
    "#### Дисперсия ошибки"
   ]
  },
  {
   "cell_type": "code",
   "execution_count": 14,
   "metadata": {},
   "outputs": [
    {
     "data": {
      "text/plain": [
       "435.26453895372725"
      ]
     },
     "execution_count": 14,
     "metadata": {},
     "output_type": "execute_result"
    }
   ],
   "source": [
    "d_error = 0\n",
    "for i in y:\n",
    "    d_error += (i - matrix[0][1]) * (i - matrix[0][1])\n",
    "    \n",
    "d_error"
   ]
  },
  {
   "cell_type": "markdown",
   "metadata": {},
   "source": [
    "#### Частные коэффициенты корреляции"
   ]
  },
  {
   "cell_type": "code",
   "execution_count": 15,
   "metadata": {},
   "outputs": [],
   "source": [
    "def calc(col, value):\n",
    "    return math.sqrt(sum([(i - value)*(i - value) for i in col]) / len(col))"
   ]
  },
  {
   "cell_type": "code",
   "execution_count": 16,
   "metadata": {},
   "outputs": [
    {
     "data": {
      "text/plain": [
       "['X1 и Y: 0.32024294355336624',\n",
       " 'X2 и Y: 0.2338840077292642',\n",
       " 'X3 и Y: 0.3614789828777408',\n",
       " 'X4 и Y: 0.12716867476892077']"
      ]
     },
     "execution_count": 16,
     "metadata": {},
     "output_type": "execute_result"
    }
   ],
   "source": [
    "x_y = []\n",
    "xs = [x1, x2, x3, x4]\n",
    "for i in range(1, 5):\n",
    "    value = (matrix[1][i+1] - matrix[0][i + 1] * matrix[0][1]) / (calc(y, matrix[0][1]) * calc(xs[i - 1], matrix[0][i + 1]))\n",
    "    x_y.append(f'X{i} и Y: {value}')\n",
    "\n",
    "x_y"
   ]
  },
  {
   "cell_type": "markdown",
   "metadata": {},
   "source": [
    "#### Множественный коэффициент корреляции"
   ]
  },
  {
   "cell_type": "code",
   "execution_count": 17,
   "metadata": {},
   "outputs": [
    {
     "name": "stdout",
     "output_type": "stream",
     "text": [
      "0.5313376701381748\n"
     ]
    }
   ],
   "source": [
    "b = koef_vector\n",
    "r_values = []\n",
    "y_on_x = []\n",
    "for i in range(0, len(y)):\n",
    "    value = x1[i] * b[1] + x2[i] * b[2] + x3[i] * b[3] + x4[i] * b[4] + b[0]\n",
    "    y_on_x.append(value)\n",
    "    r_values.append(y[i] - value)\n",
    "\n",
    "val = 0\n",
    "val += sum([i*i for i in r_values])\n",
    "\n",
    "r = math.sqrt(1 - val/d_error)\n",
    "print(r)\n"
   ]
  },
  {
   "cell_type": "markdown",
   "metadata": {},
   "source": [
    "#### Коэффициент детерминации"
   ]
  },
  {
   "cell_type": "code",
   "execution_count": 18,
   "metadata": {},
   "outputs": [
    {
     "data": {
      "text/plain": [
       "0.2521016026429319"
      ]
     },
     "execution_count": 18,
     "metadata": {},
     "output_type": "execute_result"
    }
   ],
   "source": [
    "det = 1 - (1 - r * r) * ((len(y) - 1) / (len(y) - 4 - 1))\n",
    "det"
   ]
  },
  {
   "cell_type": "markdown",
   "metadata": {},
   "source": [
    "#### Проверка на значимость функции регрессии"
   ]
  },
  {
   "cell_type": "code",
   "execution_count": 19,
   "metadata": {},
   "outputs": [
    {
     "data": {
      "text/plain": [
       "0.37748405492715115"
      ]
     },
     "execution_count": 19,
     "metadata": {},
     "output_type": "execute_result"
    }
   ],
   "source": [
    "f = (r * r) / (1 - (r * r)) * (len(y) - 4 - 1) / (len(y) - 1)\n",
    "f"
   ]
  },
  {
   "cell_type": "code",
   "execution_count": 20,
   "metadata": {},
   "outputs": [
    {
     "name": "stdout",
     "output_type": "stream",
     "text": [
      "h0 - отвергаем\n"
     ]
    }
   ],
   "source": [
    "dof = len(x1) - 4 - 1\n",
    "f_kr = stats.t.ppf(1-0.1, dof)\n",
    "\n",
    "print('h0 - не отвергаем') if f > f_kr else print('h0 - отвергаем')"
   ]
  },
  {
   "cell_type": "markdown",
   "metadata": {},
   "source": [
    "#### Гистограмма остатков"
   ]
  },
  {
   "cell_type": "code",
   "execution_count": 21,
   "metadata": {},
   "outputs": [
    {
     "data": {
      "image/png": "[encoded data removed]",
      "text/plain": [
       "<Figure size 640x480 with 1 Axes>"
      ]
     },
     "metadata": {},
     "output_type": "display_data"
    }
   ],
   "source": [
    "plt.hist(r_values)\n",
    "plt.show()"
   ]
  },
  {
   "cell_type": "markdown",
   "metadata": {},
   "source": [
    "#### График зависимости наблюдаемого и предсказываемого значения"
   ]
  },
  {
   "cell_type": "code",
   "execution_count": 22,
   "metadata": {},
   "outputs": [
    {
     "data": {
      "image/png": "[encoded data removed]",
      "text/plain": [
       "<Figure size 640x480 with 1 Axes>"
      ]
     },
     "metadata": {},
     "output_type": "display_data"
    }
   ],
   "source": [
    "plt.plot(y)\n",
    "plt.plot(y_on_x)\n",
    "plt.show()"
   ]
  }
 ],
 "metadata": {
  "kernelspec": {
   "display_name": "Python 3 (ipykernel)",
   "language": "python",
   "name": "python3"
  },
  "language_info": {
   "codemirror_mode": {
    "name": "ipython",
    "version": 3
   },
   "file_extension": ".py",
   "mimetype": "text/x-python",
   "name": "python",
   "nbconvert_exporter": "python",
   "pygments_lexer": "ipython3",
   "version": "3.10.4"
  },
  "vscode": {
   "interpreter": {
    "hash": "ab6ca09cff8a9ff71938a847248485fdaf4fe9c35a9199f94d07fb0e87c0c589"
   }
  }
 },
 "nbformat": 4,
 "nbformat_minor": 4
}
